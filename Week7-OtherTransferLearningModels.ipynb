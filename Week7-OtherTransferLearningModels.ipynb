{
 "cells": [
  {
   "cell_type": "markdown",
   "id": "65b9316f",
   "metadata": {},
   "source": [
    "# Other Transfer Learning Models\n",
    "\n",
    "We've been using a transfer learning technique to retrain a tensorflow object detection model on our custom objects. There are other transfer learning use cases we want to talk about. Note that most of these cells take time to run - this notebook is best run on a virtual machine with a GPU.\n",
    "\n",
    "\n",
    "## Image Recognition\n",
    "\n",
    "We will follow [this tutorial](https://www.tensorflow.org/tutorials/images/transfer_learning_with_hub) for our image recognition demonstration."
   ]
  },
  {
   "cell_type": "code",
   "execution_count": null,
   "id": "08b68500",
   "metadata": {
    "execution": {
     "iopub.execute_input": "2021-05-19T11:09:42.832159Z",
     "iopub.status.busy": "2021-05-19T11:09:42.831625Z",
     "iopub.status.idle": "2021-05-19T11:09:49.715594Z",
     "shell.execute_reply": "2021-05-19T11:09:49.715075Z"
    },
    "id": "OGNpmn43C0O6"
   },
   "outputs": [],
   "source": [
    "import numpy as np\n",
    "import time\n",
    "\n",
    "import PIL.Image as Image\n",
    "import matplotlib.pylab as plt\n",
    "\n",
    "import tensorflow as tf\n",
    "import tensorflow_hub as hub"
   ]
  },
  {
   "cell_type": "markdown",
   "id": "28395c06",
   "metadata": {
    "id": "s4YuF5HvpM1W"
   },
   "source": [
    "## An ImageNet classifier\n",
    "\n",
    "You'll start by using a pretrained classifer model to take an image and predict what it's an image of - no training required!"
   ]
  },
  {
   "cell_type": "markdown",
   "id": "8bc5da9c",
   "metadata": {
    "id": "xEY_Ow5loN6q"
   },
   "source": [
    "### Download the classifier\n",
    "\n",
    "Use `hub.KerasLayer` to load a [MobileNetV2 model](https://tfhub.dev/google/tf2-preview/mobilenet_v2/classification/2) from TensorFlow Hub. Any [compatible image classifier model](https://tfhub.dev/s?q=tf2&module-type=image-classification) from tfhub.dev will work here."
   ]
  },
  {
   "cell_type": "code",
   "execution_count": null,
   "id": "db09ca3b",
   "metadata": {
    "cellView": "form",
    "execution": {
     "iopub.execute_input": "2021-05-19T11:09:49.719994Z",
     "iopub.status.busy": "2021-05-19T11:09:49.719404Z",
     "iopub.status.idle": "2021-05-19T11:09:49.721683Z",
     "shell.execute_reply": "2021-05-19T11:09:49.721223Z"
    },
    "id": "feiXojVXAbI9"
   },
   "outputs": [],
   "source": [
    "classifier_model =\"https://tfhub.dev/google/tf2-preview/mobilenet_v2/classification/4\" #@param {type:\"string\"}"
   ]
  },
  {
   "cell_type": "code",
   "execution_count": null,
   "id": "1e6b10e1",
   "metadata": {
    "execution": {
     "iopub.execute_input": "2021-05-19T11:09:49.725540Z",
     "iopub.status.busy": "2021-05-19T11:09:49.724965Z",
     "iopub.status.idle": "2021-05-19T11:09:55.310046Z",
     "shell.execute_reply": "2021-05-19T11:09:55.310503Z"
    },
    "id": "y_6bGjoPtzau"
   },
   "outputs": [],
   "source": [
    "IMAGE_SHAPE = (224, 224)\n",
    "\n",
    "classifier = tf.keras.Sequential([\n",
    "    hub.KerasLayer(classifier_model, input_shape=IMAGE_SHAPE+(3,))\n",
    "])"
   ]
  },
  {
   "cell_type": "markdown",
   "id": "5bbffa65",
   "metadata": {
    "id": "pwZXaoV0uXp2"
   },
   "source": [
    "### Run it on a single image"
   ]
  },
  {
   "cell_type": "markdown",
   "id": "f338e6ab",
   "metadata": {
    "id": "TQItP1i55-di"
   },
   "source": [
    "Download a single image to try the model on."
   ]
  },
  {
   "cell_type": "code",
   "execution_count": null,
   "id": "8107483b",
   "metadata": {
    "execution": {
     "iopub.execute_input": "2021-05-19T11:09:55.315299Z",
     "iopub.status.busy": "2021-05-19T11:09:55.314745Z",
     "iopub.status.idle": "2021-05-19T11:09:55.345036Z",
     "shell.execute_reply": "2021-05-19T11:09:55.345403Z"
    },
    "id": "w5wDjXNjuXGD"
   },
   "outputs": [],
   "source": [
    "grace_hopper = tf.keras.utils.get_file('image.jpg','https://storage.googleapis.com/download.tensorflow.org/example_images/grace_hopper.jpg')\n",
    "grace_hopper = Image.open(grace_hopper).resize(IMAGE_SHAPE)\n",
    "grace_hopper"
   ]
  },
  {
   "cell_type": "code",
   "execution_count": null,
   "id": "9f1a7f60",
   "metadata": {
    "execution": {
     "iopub.execute_input": "2021-05-19T11:09:55.348999Z",
     "iopub.status.busy": "2021-05-19T11:09:55.348441Z",
     "iopub.status.idle": "2021-05-19T11:09:55.351769Z",
     "shell.execute_reply": "2021-05-19T11:09:55.352139Z"
    },
    "id": "BEmmBnGbLxPp"
   },
   "outputs": [],
   "source": [
    "grace_hopper = np.array(grace_hopper)/255.0\n",
    "grace_hopper.shape"
   ]
  },
  {
   "cell_type": "markdown",
   "id": "9ffb4f7d",
   "metadata": {
    "id": "0Ic8OEEo2b73"
   },
   "source": [
    "Add a batch dimension, and pass the image to the model."
   ]
  },
  {
   "cell_type": "code",
   "execution_count": null,
   "id": "c3d0c265",
   "metadata": {
    "execution": {
     "iopub.execute_input": "2021-05-19T11:09:55.356479Z",
     "iopub.status.busy": "2021-05-19T11:09:55.355936Z",
     "iopub.status.idle": "2021-05-19T11:09:57.239275Z",
     "shell.execute_reply": "2021-05-19T11:09:57.238826Z"
    },
    "id": "EMquyn29v8q3"
   },
   "outputs": [],
   "source": [
    "result = classifier.predict(grace_hopper[np.newaxis, ...])\n",
    "result.shape"
   ]
  },
  {
   "cell_type": "markdown",
   "id": "ab31e62d",
   "metadata": {
    "id": "NKzjqENF6jDF"
   },
   "source": [
    "The result is a 1001 element vector of logits, rating the probability of each class for the image.\n",
    "\n",
    "So the top class ID can be found with argmax:"
   ]
  },
  {
   "cell_type": "code",
   "execution_count": null,
   "id": "252c7832",
   "metadata": {
    "execution": {
     "iopub.execute_input": "2021-05-19T11:09:57.243787Z",
     "iopub.status.busy": "2021-05-19T11:09:57.243162Z",
     "iopub.status.idle": "2021-05-19T11:09:57.245502Z",
     "shell.execute_reply": "2021-05-19T11:09:57.245860Z"
    },
    "id": "rgXb44vt6goJ"
   },
   "outputs": [],
   "source": [
    "predicted_class = np.argmax(result[0], axis=-1)\n",
    "predicted_class"
   ]
  },
  {
   "cell_type": "markdown",
   "id": "7581ba3d",
   "metadata": {
    "id": "YrxLMajMoxkf"
   },
   "source": [
    "### Decode the predictions\n",
    "\n",
    "Take the predicted class ID and fetch the `ImageNet` labels to decode the predictions"
   ]
  },
  {
   "cell_type": "code",
   "execution_count": null,
   "id": "9c61fa05",
   "metadata": {
    "execution": {
     "iopub.execute_input": "2021-05-19T11:09:57.250192Z",
     "iopub.status.busy": "2021-05-19T11:09:57.249612Z",
     "iopub.status.idle": "2021-05-19T11:09:57.252062Z",
     "shell.execute_reply": "2021-05-19T11:09:57.251661Z"
    },
    "id": "ij6SrDxcxzry"
   },
   "outputs": [],
   "source": [
    "labels_path = tf.keras.utils.get_file('ImageNetLabels.txt','https://storage.googleapis.com/download.tensorflow.org/data/ImageNetLabels.txt')\n",
    "imagenet_labels = np.array(open(labels_path).read().splitlines())"
   ]
  },
  {
   "cell_type": "code",
   "execution_count": null,
   "id": "058ca5a9",
   "metadata": {
    "execution": {
     "iopub.execute_input": "2021-05-19T11:09:57.272865Z",
     "iopub.status.busy": "2021-05-19T11:09:57.266381Z",
     "iopub.status.idle": "2021-05-19T11:09:57.351993Z",
     "shell.execute_reply": "2021-05-19T11:09:57.352363Z"
    },
    "id": "uzziRK3Z2VQo"
   },
   "outputs": [],
   "source": [
    "plt.imshow(grace_hopper)\n",
    "plt.axis('off')\n",
    "predicted_class_name = imagenet_labels[predicted_class]\n",
    "_ = plt.title(\"Prediction: \" + predicted_class_name.title())"
   ]
  },
  {
   "cell_type": "markdown",
   "id": "f8e81122",
   "metadata": {
    "id": "amfzqn1Oo7Om"
   },
   "source": [
    "## Simple transfer learning"
   ]
  },
  {
   "cell_type": "markdown",
   "id": "1283512f",
   "metadata": {
    "id": "K-nIpVJ94xrw"
   },
   "source": [
    "But what if you want to train a classifier for a dataset with different classes? You can also use a model from TFHub to train a custom image classier by retraining the top layer of the model to recognize the classes in our dataset."
   ]
  },
  {
   "cell_type": "markdown",
   "id": "40e5011b",
   "metadata": {
    "id": "Z93vvAdGxDMD"
   },
   "source": [
    "### Dataset\n",
    "\n",
    " For this example you will use the TensorFlow flowers dataset:"
   ]
  },
  {
   "cell_type": "code",
   "execution_count": null,
   "id": "efdb7b64",
   "metadata": {
    "execution": {
     "iopub.execute_input": "2021-05-19T11:09:57.356624Z",
     "iopub.status.busy": "2021-05-19T11:09:57.356059Z",
     "iopub.status.idle": "2021-05-19T11:10:01.449172Z",
     "shell.execute_reply": "2021-05-19T11:10:01.449597Z"
    },
    "id": "DrIUV3V0xDL_"
   },
   "outputs": [],
   "source": [
    "data_root = tf.keras.utils.get_file(\n",
    "  'flower_photos','https://storage.googleapis.com/download.tensorflow.org/example_images/flower_photos.tgz',\n",
    "   untar=True)"
   ]
  },
  {
   "cell_type": "markdown",
   "id": "3753d08f",
   "metadata": {
    "id": "jFHdp18ccah7"
   },
   "source": [
    "Let's load this data into our model using  images off disk using image_dataset_from_directory."
   ]
  },
  {
   "cell_type": "code",
   "execution_count": null,
   "id": "dadc1271",
   "metadata": {
    "execution": {
     "iopub.execute_input": "2021-05-19T11:10:01.454817Z",
     "iopub.status.busy": "2021-05-19T11:10:01.454008Z",
     "iopub.status.idle": "2021-05-19T11:10:01.581672Z",
     "shell.execute_reply": "2021-05-19T11:10:01.582076Z"
    },
    "id": "mqnsczfLgcwv"
   },
   "outputs": [],
   "source": [
    "batch_size = 32\n",
    "img_height = 224\n",
    "img_width = 224\n",
    "\n",
    "train_ds = tf.keras.preprocessing.image_dataset_from_directory(\n",
    "  str(data_root),\n",
    "  validation_split=0.2,\n",
    "  subset=\"training\",\n",
    "  seed=123,\n",
    "  image_size=(img_height, img_width),\n",
    "  batch_size=batch_size)"
   ]
  },
  {
   "cell_type": "markdown",
   "id": "b8abc6a7",
   "metadata": {
    "id": "cCrSRlomEIZ4"
   },
   "source": [
    "The flowers dataset has five classes."
   ]
  },
  {
   "cell_type": "code",
   "execution_count": null,
   "id": "527df0ef",
   "metadata": {
    "execution": {
     "iopub.execute_input": "2021-05-19T11:10:01.586167Z",
     "iopub.status.busy": "2021-05-19T11:10:01.585617Z",
     "iopub.status.idle": "2021-05-19T11:10:01.587911Z",
     "shell.execute_reply": "2021-05-19T11:10:01.587480Z"
    },
    "id": "AFgDHs6VEFRD"
   },
   "outputs": [],
   "source": [
    "class_names = np.array(train_ds.class_names)\n",
    "print(class_names)"
   ]
  },
  {
   "cell_type": "markdown",
   "id": "554d3b98",
   "metadata": {
    "id": "L0Btd0V3C8h4"
   },
   "source": [
    "TensorFlow Hub's conventions for image models is to expect float inputs in the `[0, 1]` range. Use the `Rescaling` layer to achieve this."
   ]
  },
  {
   "cell_type": "markdown",
   "id": "1ce3301d",
   "metadata": {
    "id": "Rs6gfO-ApTQW"
   },
   "source": [
    "Note: you could also include the `Rescaling` layer inside the model. See this [guide](https://www.tensorflow.org/guide/keras/preprocessing_layers) for a discussion of the tradeoffs."
   ]
  },
  {
   "cell_type": "code",
   "execution_count": null,
   "id": "47a6837c",
   "metadata": {
    "execution": {
     "iopub.execute_input": "2021-05-19T11:10:01.602538Z",
     "iopub.status.busy": "2021-05-19T11:10:01.593835Z",
     "iopub.status.idle": "2021-05-19T11:10:01.611298Z",
     "shell.execute_reply": "2021-05-19T11:10:01.611643Z"
    },
    "id": "8NzDDWEMCL20"
   },
   "outputs": [],
   "source": [
    "normalization_layer = tf.keras.layers.experimental.preprocessing.Rescaling(1./255)\n",
    "train_ds = train_ds.map(lambda x, y: (normalization_layer(x), y))"
   ]
  },
  {
   "cell_type": "markdown",
   "id": "becba590",
   "metadata": {
    "id": "IW-BUJ-NC7y-"
   },
   "source": [
    "Let's make sure to use buffered prefetching so we can yield data from disk without having I/O become blocking. These are two important methods you should use when loading data.\n",
    "\n",
    "Interested readers can learn more about both methods, as well as how to cache data to disk in the [data performance guide](https://www.tensorflow.org/guide/data_performance#prefetching)."
   ]
  },
  {
   "cell_type": "code",
   "execution_count": null,
   "id": "e4c2bb08",
   "metadata": {
    "execution": {
     "iopub.execute_input": "2021-05-19T11:10:01.615161Z",
     "iopub.status.busy": "2021-05-19T11:10:01.614591Z",
     "iopub.status.idle": "2021-05-19T11:10:01.617339Z",
     "shell.execute_reply": "2021-05-19T11:10:01.617662Z"
    },
    "id": "ZmJMKFw7C4ki"
   },
   "outputs": [],
   "source": [
    "AUTOTUNE = tf.data.AUTOTUNE\n",
    "train_ds = train_ds.cache().prefetch(buffer_size=AUTOTUNE)"
   ]
  },
  {
   "cell_type": "code",
   "execution_count": null,
   "id": "b54b06ab",
   "metadata": {
    "execution": {
     "iopub.execute_input": "2021-05-19T11:10:01.621942Z",
     "iopub.status.busy": "2021-05-19T11:10:01.621405Z",
     "iopub.status.idle": "2021-05-19T11:10:01.789720Z",
     "shell.execute_reply": "2021-05-19T11:10:01.789248Z"
    },
    "id": "m0JyiEZ0imgf"
   },
   "outputs": [],
   "source": [
    "for image_batch, labels_batch in train_ds:\n",
    "  print(image_batch.shape)\n",
    "  print(labels_batch.shape)\n",
    "  break"
   ]
  },
  {
   "cell_type": "markdown",
   "id": "78cdd788",
   "metadata": {
    "id": "0gTN7M_GxDLx"
   },
   "source": [
    "### Run the classifier on a batch of images"
   ]
  },
  {
   "cell_type": "markdown",
   "id": "98919780",
   "metadata": {
    "id": "O3fvrZR8xDLv"
   },
   "source": [
    "Now run the classifier on the image batch."
   ]
  },
  {
   "cell_type": "code",
   "execution_count": null,
   "id": "53a69e9d",
   "metadata": {
    "execution": {
     "iopub.execute_input": "2021-05-19T11:10:01.794408Z",
     "iopub.status.busy": "2021-05-19T11:10:01.793828Z",
     "iopub.status.idle": "2021-05-19T11:10:04.683702Z",
     "shell.execute_reply": "2021-05-19T11:10:04.684151Z"
    },
    "id": "pcFeNcrehEue"
   },
   "outputs": [],
   "source": [
    "result_batch = classifier.predict(train_ds)"
   ]
  },
  {
   "cell_type": "code",
   "execution_count": null,
   "id": "166f3d4e",
   "metadata": {
    "execution": {
     "iopub.execute_input": "2021-05-19T11:10:04.688887Z",
     "iopub.status.busy": "2021-05-19T11:10:04.687939Z",
     "iopub.status.idle": "2021-05-19T11:10:04.695690Z",
     "shell.execute_reply": "2021-05-19T11:10:04.696032Z"
    },
    "id": "-wK2ky45hlyS"
   },
   "outputs": [],
   "source": [
    "predicted_class_names = imagenet_labels[np.argmax(result_batch, axis=-1)]\n",
    "predicted_class_names"
   ]
  },
  {
   "cell_type": "markdown",
   "id": "5bb076fd",
   "metadata": {
    "id": "QmvSWg9nxDLa"
   },
   "source": [
    "Now check how these predictions line up with the images:"
   ]
  },
  {
   "cell_type": "code",
   "execution_count": null,
   "id": "8006a670",
   "metadata": {
    "execution": {
     "iopub.execute_input": "2021-05-19T11:10:04.720860Z",
     "iopub.status.busy": "2021-05-19T11:10:04.719375Z",
     "iopub.status.idle": "2021-05-19T11:10:06.110436Z",
     "shell.execute_reply": "2021-05-19T11:10:06.110810Z"
    },
    "id": "IXTB22SpxDLP"
   },
   "outputs": [],
   "source": [
    "plt.figure(figsize=(10,9))\n",
    "plt.subplots_adjust(hspace=0.5)\n",
    "for n in range(30):\n",
    "  plt.subplot(6,5,n+1)\n",
    "  plt.imshow(image_batch[n])\n",
    "  plt.title(predicted_class_names[n])\n",
    "  plt.axis('off')\n",
    "_ = plt.suptitle(\"ImageNet predictions\")"
   ]
  },
  {
   "cell_type": "markdown",
   "id": "82834d08",
   "metadata": {
    "id": "FUa3YkvhxDLM"
   },
   "source": [
    "See the `LICENSE.txt` file for image attributions.\n",
    "\n",
    "The results are far from perfect, but reasonable considering that these are not the classes the model was trained for (except \"daisy\")."
   ]
  },
  {
   "cell_type": "markdown",
   "id": "51347fc8",
   "metadata": {
    "id": "JzV457OXreQP"
   },
   "source": [
    "### Download the headless model\n",
    "\n",
    "TensorFlow Hub also distributes models without the top classification layer. These can be used to easily do transfer learning.\n",
    "\n",
    "Any [compatible image feature vector model](https://tfhub.dev/s?module-type=image-feature-vector&q=tf2) from tfhub.dev will work here."
   ]
  },
  {
   "cell_type": "code",
   "execution_count": null,
   "id": "0226259b",
   "metadata": {
    "execution": {
     "iopub.execute_input": "2021-05-19T11:10:06.115469Z",
     "iopub.status.busy": "2021-05-19T11:10:06.114574Z",
     "iopub.status.idle": "2021-05-19T11:10:06.116824Z",
     "shell.execute_reply": "2021-05-19T11:10:06.117236Z"
    },
    "id": "4bw8Jf94DSnP"
   },
   "outputs": [],
   "source": [
    "feature_extractor_model = \"https://tfhub.dev/google/tf2-preview/mobilenet_v2/feature_vector/4\" #@param {type:\"string\"}"
   ]
  },
  {
   "cell_type": "markdown",
   "id": "7940423d",
   "metadata": {
    "id": "sgwmHugQF-PD"
   },
   "source": [
    "Create the feature extractor. Use `trainable=False` to freeze the variables in the feature extractor layer, so that the training only modifies the new classifier layer."
   ]
  },
  {
   "cell_type": "code",
   "execution_count": null,
   "id": "6a9a05e7",
   "metadata": {
    "execution": {
     "iopub.execute_input": "2021-05-19T11:10:06.122124Z",
     "iopub.status.busy": "2021-05-19T11:10:06.121318Z",
     "iopub.status.idle": "2021-05-19T11:10:08.287333Z",
     "shell.execute_reply": "2021-05-19T11:10:08.287729Z"
    },
    "id": "5wB030nezBwI"
   },
   "outputs": [],
   "source": [
    "feature_extractor_layer = hub.KerasLayer(\n",
    "    feature_extractor_model, input_shape=(224, 224, 3), trainable=False)"
   ]
  },
  {
   "cell_type": "markdown",
   "id": "121d54f7",
   "metadata": {
    "id": "0QzVdu4ZhcDE"
   },
   "source": [
    "It returns a 1280-length vector for each image:"
   ]
  },
  {
   "cell_type": "code",
   "execution_count": null,
   "id": "9936f0ac",
   "metadata": {
    "execution": {
     "iopub.execute_input": "2021-05-19T11:10:08.293761Z",
     "iopub.status.busy": "2021-05-19T11:10:08.292810Z",
     "iopub.status.idle": "2021-05-19T11:10:08.620964Z",
     "shell.execute_reply": "2021-05-19T11:10:08.621356Z"
    },
    "id": "Of7i-35F09ls"
   },
   "outputs": [],
   "source": [
    "feature_batch = feature_extractor_layer(image_batch)\n",
    "print(feature_batch.shape)"
   ]
  },
  {
   "cell_type": "markdown",
   "id": "4d9503e6",
   "metadata": {
    "id": "RPVeouTksO9q"
   },
   "source": [
    "### Attach a classification head\n",
    "\n",
    "Now wrap the hub layer in a `tf.keras.Sequential` model, and add a new classification layer."
   ]
  },
  {
   "cell_type": "code",
   "execution_count": null,
   "id": "bd0a8a4b",
   "metadata": {
    "execution": {
     "iopub.execute_input": "2021-05-19T11:10:08.629763Z",
     "iopub.status.busy": "2021-05-19T11:10:08.628717Z",
     "iopub.status.idle": "2021-05-19T11:10:08.825909Z",
     "shell.execute_reply": "2021-05-19T11:10:08.826243Z"
    },
    "id": "vQq_kCWzlqSu"
   },
   "outputs": [],
   "source": [
    "num_classes = len(class_names)\n",
    "\n",
    "model = tf.keras.Sequential([\n",
    "  feature_extractor_layer,\n",
    "  tf.keras.layers.Dense(num_classes)\n",
    "])\n",
    "\n",
    "model.summary()"
   ]
  },
  {
   "cell_type": "code",
   "execution_count": null,
   "id": "6acbfffc",
   "metadata": {
    "execution": {
     "iopub.execute_input": "2021-05-19T11:10:08.830713Z",
     "iopub.status.busy": "2021-05-19T11:10:08.830088Z",
     "iopub.status.idle": "2021-05-19T11:10:08.844722Z",
     "shell.execute_reply": "2021-05-19T11:10:08.844207Z"
    },
    "id": "IyhX4VCFmzVS"
   },
   "outputs": [],
   "source": [
    "predictions = model(image_batch)"
   ]
  },
  {
   "cell_type": "code",
   "execution_count": null,
   "id": "1ef577d3",
   "metadata": {
    "execution": {
     "iopub.execute_input": "2021-05-19T11:10:08.849445Z",
     "iopub.status.busy": "2021-05-19T11:10:08.848665Z",
     "iopub.status.idle": "2021-05-19T11:10:08.851423Z",
     "shell.execute_reply": "2021-05-19T11:10:08.851793Z"
    },
    "id": "FQdUaTkzm3jQ"
   },
   "outputs": [],
   "source": [
    "predictions.shape"
   ]
  },
  {
   "cell_type": "markdown",
   "id": "6249998e",
   "metadata": {
    "id": "OHbXQqIquFxQ"
   },
   "source": [
    "### Train the model\n",
    "\n",
    "Use compile to configure the training process:"
   ]
  },
  {
   "cell_type": "code",
   "execution_count": null,
   "id": "88c037a1",
   "metadata": {
    "execution": {
     "iopub.execute_input": "2021-05-19T11:10:08.859515Z",
     "iopub.status.busy": "2021-05-19T11:10:08.858509Z",
     "iopub.status.idle": "2021-05-19T11:10:08.864822Z",
     "shell.execute_reply": "2021-05-19T11:10:08.865211Z"
    },
    "id": "4xRx8Rjzm67O"
   },
   "outputs": [],
   "source": [
    "model.compile(\n",
    "  optimizer=tf.keras.optimizers.Adam(),\n",
    "  loss=tf.keras.losses.SparseCategoricalCrossentropy(from_logits=True),\n",
    "  metrics=['acc'])"
   ]
  },
  {
   "cell_type": "markdown",
   "id": "f32973d4",
   "metadata": {
    "id": "58-BLV7dupJA"
   },
   "source": [
    "Now use the `.fit` method to train the model.\n",
    "\n",
    "To keep this example short train just 2 epochs. To visualize the training progress, use a custom callback to log the loss and accuracy of each batch individually, instead of the epoch average."
   ]
  },
  {
   "cell_type": "code",
   "execution_count": null,
   "id": "e5e3d22f",
   "metadata": {
    "execution": {
     "iopub.execute_input": "2021-05-19T11:10:08.870601Z",
     "iopub.status.busy": "2021-05-19T11:10:08.870063Z",
     "iopub.status.idle": "2021-05-19T11:10:14.896171Z",
     "shell.execute_reply": "2021-05-19T11:10:14.896503Z"
    },
    "id": "JI0yAKd-nARd"
   },
   "outputs": [],
   "source": [
    "class CollectBatchStats(tf.keras.callbacks.Callback):\n",
    "  def __init__(self):\n",
    "    self.batch_losses = []\n",
    "    self.batch_acc = []\n",
    "\n",
    "  def on_train_batch_end(self, batch, logs=None):\n",
    "    self.batch_losses.append(logs['loss'])\n",
    "    self.batch_acc.append(logs['acc'])\n",
    "    self.model.reset_metrics()\n",
    "\n",
    "batch_stats_callback = CollectBatchStats()\n",
    "\n",
    "history = model.fit(train_ds, epochs=2,\n",
    "                    callbacks=[batch_stats_callback])"
   ]
  },
  {
   "cell_type": "markdown",
   "id": "8ceb8b7b",
   "metadata": {
    "id": "Kd0N272B9Q0b"
   },
   "source": [
    "Now after, even just a few training iterations, we can already see that the model is making progress on the task."
   ]
  },
  {
   "cell_type": "code",
   "execution_count": null,
   "id": "da3ac756",
   "metadata": {
    "execution": {
     "iopub.execute_input": "2021-05-19T11:10:14.915091Z",
     "iopub.status.busy": "2021-05-19T11:10:14.914405Z",
     "iopub.status.idle": "2021-05-19T11:10:15.023577Z",
     "shell.execute_reply": "2021-05-19T11:10:15.023936Z"
    },
    "id": "A5RfS1QIIP-P"
   },
   "outputs": [],
   "source": [
    "plt.figure()\n",
    "plt.ylabel(\"Loss\")\n",
    "plt.xlabel(\"Training Steps\")\n",
    "plt.ylim([0,2])\n",
    "plt.plot(batch_stats_callback.batch_losses)"
   ]
  },
  {
   "cell_type": "code",
   "execution_count": null,
   "id": "2658e629",
   "metadata": {
    "execution": {
     "iopub.execute_input": "2021-05-19T11:10:15.043180Z",
     "iopub.status.busy": "2021-05-19T11:10:15.041189Z",
     "iopub.status.idle": "2021-05-19T11:10:15.136511Z",
     "shell.execute_reply": "2021-05-19T11:10:15.136079Z"
    },
    "id": "3uvX11avTiDg"
   },
   "outputs": [],
   "source": [
    "plt.figure()\n",
    "plt.ylabel(\"Accuracy\")\n",
    "plt.xlabel(\"Training Steps\")\n",
    "plt.ylim([0,1])\n",
    "plt.plot(batch_stats_callback.batch_acc)"
   ]
  },
  {
   "cell_type": "markdown",
   "id": "d251c316",
   "metadata": {
    "id": "kb__ZN8uFn-D"
   },
   "source": [
    "### Check the predictions\n",
    "\n",
    "To redo the plot from before, first get the ordered list of class names:"
   ]
  },
  {
   "cell_type": "code",
   "execution_count": null,
   "id": "249a3717",
   "metadata": {
    "execution": {
     "iopub.execute_input": "2021-05-19T11:10:15.140880Z",
     "iopub.status.busy": "2021-05-19T11:10:15.140313Z",
     "iopub.status.idle": "2021-05-19T11:10:15.643814Z",
     "shell.execute_reply": "2021-05-19T11:10:15.644193Z"
    },
    "id": "JGbEf5l1I4jz"
   },
   "outputs": [],
   "source": [
    "predicted_batch = model.predict(image_batch)\n",
    "predicted_id = np.argmax(predicted_batch, axis=-1)\n",
    "predicted_label_batch = class_names[predicted_id]"
   ]
  },
  {
   "cell_type": "markdown",
   "id": "d8a9738e",
   "metadata": {
    "id": "CkGbZxl9GZs-"
   },
   "source": [
    "Plot the result"
   ]
  },
  {
   "cell_type": "code",
   "execution_count": null,
   "id": "5193e08d",
   "metadata": {
    "execution": {
     "iopub.execute_input": "2021-05-19T11:10:15.666054Z",
     "iopub.status.busy": "2021-05-19T11:10:15.659557Z",
     "iopub.status.idle": "2021-05-19T11:10:17.030933Z",
     "shell.execute_reply": "2021-05-19T11:10:17.031360Z"
    },
    "id": "hW3Ic_ZlwtrZ"
   },
   "outputs": [],
   "source": [
    "plt.figure(figsize=(10,9))\n",
    "plt.subplots_adjust(hspace=0.5)\n",
    "for n in range(30):\n",
    "  plt.subplot(6,5,n+1)\n",
    "  plt.imshow(image_batch[n])\n",
    "  plt.title(predicted_label_batch[n].title())\n",
    "  plt.axis('off')\n",
    "_ = plt.suptitle(\"Model predictions\")"
   ]
  },
  {
   "cell_type": "markdown",
   "id": "59b66e8a",
   "metadata": {
    "id": "uRcJnAABr22x"
   },
   "source": [
    "## Export your model\n",
    "\n",
    "Now that you've trained the model, export it as a SavedModel for use later on."
   ]
  },
  {
   "cell_type": "code",
   "execution_count": null,
   "id": "ac8d5aa9",
   "metadata": {
    "execution": {
     "iopub.execute_input": "2021-05-19T11:10:17.040606Z",
     "iopub.status.busy": "2021-05-19T11:10:17.037521Z",
     "iopub.status.idle": "2021-05-19T11:10:21.378600Z",
     "shell.execute_reply": "2021-05-19T11:10:21.378138Z"
    },
    "id": "PLcqg-RmsLno"
   },
   "outputs": [],
   "source": [
    "t = time.time()\n",
    "\n",
    "export_path = \"workspace/image_classifier/exported-models/{}\".format(int(t))\n",
    "model.save(export_path)\n",
    "\n",
    "export_path"
   ]
  },
  {
   "cell_type": "markdown",
   "id": "fce83087",
   "metadata": {
    "id": "AhQ9liIUsPsi"
   },
   "source": [
    "Now confirm that we can reload it, and it still gives the same results:"
   ]
  },
  {
   "cell_type": "code",
   "execution_count": null,
   "id": "a2a022a0",
   "metadata": {
    "execution": {
     "iopub.execute_input": "2021-05-19T11:10:21.384952Z",
     "iopub.status.busy": "2021-05-19T11:10:21.384383Z",
     "iopub.status.idle": "2021-05-19T11:10:23.992617Z",
     "shell.execute_reply": "2021-05-19T11:10:23.993110Z"
    },
    "id": "7nI5fvkAQvbS"
   },
   "outputs": [],
   "source": [
    "reloaded = tf.keras.models.load_model(export_path)"
   ]
  },
  {
   "cell_type": "code",
   "execution_count": null,
   "id": "352bba67",
   "metadata": {
    "execution": {
     "iopub.execute_input": "2021-05-19T11:10:24.004522Z",
     "iopub.status.busy": "2021-05-19T11:10:24.003924Z",
     "iopub.status.idle": "2021-05-19T11:10:24.606836Z",
     "shell.execute_reply": "2021-05-19T11:10:24.607209Z"
    },
    "id": "jor83-LqI8xW"
   },
   "outputs": [],
   "source": [
    "result_batch = model.predict(image_batch)\n",
    "reloaded_result_batch = reloaded.predict(image_batch)"
   ]
  },
  {
   "cell_type": "code",
   "execution_count": null,
   "id": "9fc43234",
   "metadata": {
    "execution": {
     "iopub.execute_input": "2021-05-19T11:10:24.612176Z",
     "iopub.status.busy": "2021-05-19T11:10:24.611500Z",
     "iopub.status.idle": "2021-05-19T11:10:24.613960Z",
     "shell.execute_reply": "2021-05-19T11:10:24.614302Z"
    },
    "id": "dnZO14taYPH6"
   },
   "outputs": [],
   "source": [
    "abs(reloaded_result_batch - result_batch).max()"
   ]
  },
  {
   "cell_type": "markdown",
   "id": "1e42bc0a",
   "metadata": {},
   "source": [
    "We could follow this same process with other images - the point is that we can use transfer learning to classify images as well as do our object detection.\n",
    "\n",
    "## Natural Language Processing - Classification\n",
    "\n",
    "Natural language processing (NLP) techniques use large collections of written text to learn patterns and properties of written language. We'll use one of the NLP tools to classify statements. The goal here is to determine if a statement is either recipe ingredients or instructions. The target variable is “1” if the paragraph is “recipe ingredients” and “0” if it is “instructions”. The proportion of labels is about 20% ones and 80% zeroes. Now, let’s move on to the next step.\n",
    "\n",
    "We'll be following [this tutorial](https://medium.com/geekculture/hugging-face-distilbert-tensorflow-for-custom-text-classification-1ad4a49e26a7)."
   ]
  },
  {
   "cell_type": "markdown",
   "id": "16d139b1",
   "metadata": {},
   "source": [
    "## Setup\n",
    "\n",
    "You will use a separate model to preprocess text before using it to fine-tune BERT."
   ]
  },
  {
   "cell_type": "code",
   "execution_count": null,
   "id": "04c002ec",
   "metadata": {},
   "outputs": [],
   "source": [
    "!pip install -q transformers"
   ]
  },
  {
   "cell_type": "code",
   "execution_count": null,
   "id": "cb4fbed5",
   "metadata": {},
   "outputs": [],
   "source": [
    "import pandas as pd\n",
    "import tensorflow as tf\n",
    "import transformers\n",
    "from transformers import DistilBertTokenizer\n",
    "from transformers import TFDistilBertForSequenceClassification\n",
    "pd.set_option('display.max_colwidth', None)\n",
    "MODEL_NAME = 'distilbert-base-uncased-finetuned-sst-2-english'\n",
    "BATCH_SIZE = 16\n",
    "N_EPOCHS = 3"
   ]
  },
  {
   "cell_type": "code",
   "execution_count": null,
   "id": "d564a486",
   "metadata": {},
   "outputs": [],
   "source": [
    "train = pd.read_pickle('mondaydata/new_train_data_clean.pkl')\n",
    "X_train = train.paragraph\n",
    "y_train = train.label\n",
    "\n",
    "test = pd.read_pickle('mondaydata/new_test_data_clean.pkl')\n",
    "X_test = test.paragraph\n",
    "y_test = test.label\n",
    "\n",
    "pd.DataFrame(X_train).head()"
   ]
  },
  {
   "cell_type": "code",
   "execution_count": null,
   "id": "f3a71e23",
   "metadata": {},
   "outputs": [],
   "source": [
    "X_train = X_train.apply(lambda x: str(x[0], 'utf-8'))\n",
    "X_test = X_test.apply(lambda x:  str(x[0], 'utf-8'))"
   ]
  },
  {
   "cell_type": "code",
   "execution_count": null,
   "id": "7dd09b25",
   "metadata": {},
   "outputs": [],
   "source": [
    "#define a tokenizer object\n",
    "tokenizer = DistilBertTokenizer.from_pretrained(MODEL_NAME)\n",
    "#tokenize the text\n",
    "train_encodings = tokenizer(list(X_train.values),\n",
    "                            truncation=True, \n",
    "                            padding=True)\n",
    "test_encodings = tokenizer(list(X_test.values),\n",
    "                           truncation=True, \n",
    "                           padding=True)"
   ]
  },
  {
   "cell_type": "code",
   "execution_count": null,
   "id": "492d8d02",
   "metadata": {},
   "outputs": [],
   "source": [
    "print(f'First Paragraph: \\'{X_train[:1]}\\'')"
   ]
  },
  {
   "cell_type": "code",
   "execution_count": null,
   "id": "0bd2aa07",
   "metadata": {},
   "outputs": [],
   "source": [
    "train_dataset = tf.data.Dataset.from_tensor_slices((dict(train_encodings),\n",
    "                                    list(y_train.values)))\n",
    "test_dataset = tf.data.Dataset.from_tensor_slices((dict(test_encodings),\n",
    "                                    list(y_test.values)))"
   ]
  },
  {
   "cell_type": "code",
   "execution_count": null,
   "id": "78cd7ec3",
   "metadata": {
    "scrolled": true
   },
   "outputs": [],
   "source": [
    "model = TFDistilBertForSequenceClassification.from_pretrained(MODEL_NAME)\n",
    "#chose the optimizer\n",
    "optimizerr = tf.keras.optimizers.Adam(learning_rate=5e-5)\n",
    "#define the loss function \n",
    "losss = tf.keras.losses.SparseCategoricalCrossentropy(from_logits=True)\n",
    "#build the model\n",
    "model.compile(optimizer=optimizerr,\n",
    "              loss=losss,\n",
    "              metrics=['accuracy'])\n",
    "# train the model \n",
    "model.fit(train_dataset.shuffle(len(X_train)).batch(BATCH_SIZE),\n",
    "          epochs=N_EPOCHS,\n",
    "          batch_size=BATCH_SIZE)"
   ]
  },
  {
   "cell_type": "code",
   "execution_count": null,
   "id": "439f06f3",
   "metadata": {},
   "outputs": [],
   "source": [
    "def predict_proba(text_list, model, tokenizer):  \n",
    "    #tokenize the text\n",
    "    encodings = tokenizer(text_list, \n",
    "                          max_length=600, \n",
    "                          truncation=True, \n",
    "                          padding=True)\n",
    "    #transform to tf.Dataset\n",
    "    dataset = tf.data.Dataset.from_tensor_slices((dict(encodings)))\n",
    "    #predict\n",
    "    preds = model.predict(dataset.batch(1)).logits  \n",
    "    \n",
    "    #transform to array with probabilities\n",
    "    res = tf.nn.softmax(preds, axis=1).numpy()      \n",
    "    \n",
    "    return res"
   ]
  },
  {
   "cell_type": "markdown",
   "id": "5fe49abf",
   "metadata": {},
   "source": [
    "Now that we've trained the model to identify either ingredients lists or instructions, let's test it out!"
   ]
  },
  {
   "cell_type": "code",
   "execution_count": null,
   "id": "e5cab5bd",
   "metadata": {},
   "outputs": [],
   "source": [
    "strings_list =[\"\"\"\n",
    "                  1 pound green beans, trimmed\n",
    "                  ½ head radicchio, sliced into strips\n",
    "                  Scant ¼ cup thinly sliced red onion\n",
    "                  Honey Mustard Dressing, for drizzling\n",
    "                  2 ounces goat cheese\n",
    "                  2 tablespoons chopped walnuts\n",
    "                  2 tablespoons sliced almonds\n",
    "                  ¼ cup tarragon\n",
    "                  Flaky sea salt\"\"\",\n",
    "               \"\"\"Bring a large pot of salted water to a boil and set a bowl of ice water nearby. Drop the green beans into the boiling water and blanch for 2 minutes. Remove the beans and immediately immerse in the ice water long enough to cool completely, about 15 seconds. Drain and place on paper towels to dry. \"\"\",\n",
    "               \"\"\"Transfer the beans to a bowl and toss with the radicchio, onion, and a few spoonfuls of the dressing.\"\"\",\n",
    "               \"\"\"Arrange on a platter and top with small dollops of goat cheese, the walnuts, almonds, and tarragon. Drizzle with more dressing, season to taste with flaky salt, and serve.\"\"\"]"
   ]
  },
  {
   "cell_type": "code",
   "execution_count": null,
   "id": "7a19ed40",
   "metadata": {},
   "outputs": [],
   "source": [
    "predict_proba(strings_list, model, tokenizer)"
   ]
  },
  {
   "cell_type": "markdown",
   "id": "48c7a5c2",
   "metadata": {},
   "source": [
    "## Generative Adversarial Networks (GANs)\n",
    "\n",
    "There is another type of transfer learning model that will teach the model to generate new outputs instead of classify inputs. We'll look at one where we generate images and then we'll explore generating text. We're following [this tutorial](https://www.tensorflow.org/tutorials/generative/dcgan).\n"
   ]
  },
  {
   "cell_type": "markdown",
   "id": "6c8c80f0",
   "metadata": {
    "id": "2MbKJY38Puy9"
   },
   "source": [
    "## What are GANs?\n",
    "[Generative Adversarial Networks](https://arxiv.org/abs/1406.2661) (GANs) are one of the most interesting ideas in computer science today. Two models are trained simultaneously by an adversarial process. A *generator* (\"the artist\") learns to create images that look real, while a *discriminator* (\"the art critic\") learns to tell real images apart from fakes.\n",
    "\n",
    "![A diagram of a generator and discriminator](./images/gan1.png)\n",
    "\n",
    "During training, the *generator* progressively becomes better at creating images that look real, while the *discriminator* becomes better at telling them apart. The process reaches equilibrium when the *discriminator* can no longer distinguish real images from fakes.\n",
    "\n",
    "![A second diagram of a generator and discriminator](./images/gan2.png)\n",
    "\n",
    "This notebook demonstrates this process on the MNIST dataset. The following animation shows a series of images produced by the *generator* as it was trained for 50 epochs. The images begin as random noise, and increasingly resemble hand written digits over time.\n",
    "\n",
    "![sample output](https://tensorflow.org/images/gan/dcgan.gif)\n",
    "\n",
    "To learn more about GANs, see MIT's [Intro to Deep Learning](http://introtodeeplearning.com/) course."
   ]
  },
  {
   "cell_type": "markdown",
   "id": "956bf04c",
   "metadata": {
    "id": "e1_Y75QXJS6h"
   },
   "source": [
    "### Setup"
   ]
  },
  {
   "cell_type": "code",
   "execution_count": null,
   "id": "120cd47f",
   "metadata": {
    "execution": {
     "iopub.execute_input": "2021-05-19T09:23:03.346203Z",
     "iopub.status.busy": "2021-05-19T09:23:03.345593Z",
     "iopub.status.idle": "2021-05-19T09:23:10.126823Z",
     "shell.execute_reply": "2021-05-19T09:23:10.126006Z"
    },
    "id": "WZKbyU2-AiY-"
   },
   "outputs": [],
   "source": [
    "import tensorflow as tf"
   ]
  },
  {
   "cell_type": "code",
   "execution_count": null,
   "id": "33b5e781",
   "metadata": {
    "execution": {
     "iopub.execute_input": "2021-05-19T09:23:10.148849Z",
     "iopub.status.busy": "2021-05-19T09:23:10.147916Z",
     "iopub.status.idle": "2021-05-19T09:23:21.204448Z",
     "shell.execute_reply": "2021-05-19T09:23:21.204836Z"
    },
    "id": "YzTlj4YdCip_"
   },
   "outputs": [],
   "source": [
    "# To generate GIFs\n",
    "!pip install -q imageio\n",
    "!pip install -q git+https://github.com/tensorflow/docs"
   ]
  },
  {
   "cell_type": "code",
   "execution_count": null,
   "id": "79c6be37",
   "metadata": {
    "execution": {
     "iopub.execute_input": "2021-05-19T09:23:21.209726Z",
     "iopub.status.busy": "2021-05-19T09:23:21.209108Z",
     "iopub.status.idle": "2021-05-19T09:23:21.462077Z",
     "shell.execute_reply": "2021-05-19T09:23:21.461588Z"
    },
    "id": "YfIk2es3hJEd"
   },
   "outputs": [],
   "source": [
    "import glob\n",
    "import imageio\n",
    "import matplotlib.pyplot as plt\n",
    "import numpy as np\n",
    "import os\n",
    "import PIL\n",
    "from tensorflow.keras import layers\n",
    "import time\n",
    "\n",
    "from IPython import display"
   ]
  },
  {
   "cell_type": "markdown",
   "id": "9a63e4b1",
   "metadata": {
    "id": "iYn4MdZnKCey"
   },
   "source": [
    "### Load and prepare the dataset\n",
    "\n",
    "You will use the MNIST dataset to train the generator and the discriminator. The generator will generate handwritten digits resembling the MNIST data."
   ]
  },
  {
   "cell_type": "code",
   "execution_count": null,
   "id": "fc82f5f2",
   "metadata": {
    "execution": {
     "iopub.execute_input": "2021-05-19T09:23:21.466555Z",
     "iopub.status.busy": "2021-05-19T09:23:21.465964Z",
     "iopub.status.idle": "2021-05-19T09:23:21.740166Z",
     "shell.execute_reply": "2021-05-19T09:23:21.739557Z"
    },
    "id": "a4fYMGxGhrna"
   },
   "outputs": [],
   "source": [
    "(train_images, train_labels), (_, _) = tf.keras.datasets.mnist.load_data()"
   ]
  },
  {
   "cell_type": "code",
   "execution_count": null,
   "id": "715e2ebc",
   "metadata": {
    "execution": {
     "iopub.execute_input": "2021-05-19T09:23:21.744424Z",
     "iopub.status.busy": "2021-05-19T09:23:21.743763Z",
     "iopub.status.idle": "2021-05-19T09:23:21.866957Z",
     "shell.execute_reply": "2021-05-19T09:23:21.866392Z"
    },
    "id": "NFC2ghIdiZYE"
   },
   "outputs": [],
   "source": [
    "train_images = train_images.reshape(train_images.shape[0], 28, 28, 1).astype('float32')\n",
    "train_images = (train_images - 127.5) / 127.5  # Normalize the images to [-1, 1]"
   ]
  },
  {
   "cell_type": "code",
   "execution_count": null,
   "id": "638bbf72",
   "metadata": {
    "execution": {
     "iopub.execute_input": "2021-05-19T09:23:21.871300Z",
     "iopub.status.busy": "2021-05-19T09:23:21.870673Z",
     "iopub.status.idle": "2021-05-19T09:23:21.872244Z",
     "shell.execute_reply": "2021-05-19T09:23:21.872640Z"
    },
    "id": "S4PIDhoDLbsZ"
   },
   "outputs": [],
   "source": [
    "BUFFER_SIZE = 60000\n",
    "BATCH_SIZE = 256"
   ]
  },
  {
   "cell_type": "code",
   "execution_count": null,
   "id": "2c61af3c",
   "metadata": {
    "execution": {
     "iopub.execute_input": "2021-05-19T09:23:22.706077Z",
     "iopub.status.busy": "2021-05-19T09:23:22.705319Z",
     "iopub.status.idle": "2021-05-19T09:23:22.709696Z",
     "shell.execute_reply": "2021-05-19T09:23:22.709162Z"
    },
    "id": "-yKCCQOoJ7cn"
   },
   "outputs": [],
   "source": [
    "# Batch and shuffle the data\n",
    "train_dataset = tf.data.Dataset.from_tensor_slices(train_images).shuffle(BUFFER_SIZE).batch(BATCH_SIZE)"
   ]
  },
  {
   "cell_type": "markdown",
   "id": "11879260",
   "metadata": {
    "id": "THY-sZMiQ4UV"
   },
   "source": [
    "## Create the models\n",
    "\n",
    "Both the generator and discriminator are defined using the [Keras Sequential API](https://www.tensorflow.org/guide/keras#sequential_model)."
   ]
  },
  {
   "cell_type": "markdown",
   "id": "67e9b3ef",
   "metadata": {
    "id": "-tEyxE-GMC48"
   },
   "source": [
    "### The Generator\n",
    "\n",
    "The generator uses `tf.keras.layers.Conv2DTranspose` (upsampling) layers to produce an image from a seed (random noise). Start with a `Dense` layer that takes this seed as input, then upsample several times until you reach the desired image size of 28x28x1. Notice the `tf.keras.layers.LeakyReLU` activation for each layer, except the output layer which uses tanh."
   ]
  },
  {
   "cell_type": "code",
   "execution_count": null,
   "id": "868f3a84",
   "metadata": {
    "execution": {
     "iopub.execute_input": "2021-05-19T09:23:22.717694Z",
     "iopub.status.busy": "2021-05-19T09:23:22.717122Z",
     "iopub.status.idle": "2021-05-19T09:23:22.718741Z",
     "shell.execute_reply": "2021-05-19T09:23:22.719134Z"
    },
    "id": "6bpTcDqoLWjY"
   },
   "outputs": [],
   "source": [
    "def make_generator_model():\n",
    "    model = tf.keras.Sequential()\n",
    "    model.add(layers.Dense(7*7*256, use_bias=False, input_shape=(100,)))\n",
    "    model.add(layers.BatchNormalization())\n",
    "    model.add(layers.LeakyReLU())\n",
    "\n",
    "    model.add(layers.Reshape((7, 7, 256)))\n",
    "    assert model.output_shape == (None, 7, 7, 256)  # Note: None is the batch size\n",
    "\n",
    "    model.add(layers.Conv2DTranspose(128, (5, 5), strides=(1, 1), padding='same', use_bias=False))\n",
    "    assert model.output_shape == (None, 7, 7, 128)\n",
    "    model.add(layers.BatchNormalization())\n",
    "    model.add(layers.LeakyReLU())\n",
    "\n",
    "    model.add(layers.Conv2DTranspose(64, (5, 5), strides=(2, 2), padding='same', use_bias=False))\n",
    "    assert model.output_shape == (None, 14, 14, 64)\n",
    "    model.add(layers.BatchNormalization())\n",
    "    model.add(layers.LeakyReLU())\n",
    "\n",
    "    model.add(layers.Conv2DTranspose(1, (5, 5), strides=(2, 2), padding='same', use_bias=False, activation='tanh'))\n",
    "    assert model.output_shape == (None, 28, 28, 1)\n",
    "\n",
    "    return model"
   ]
  },
  {
   "cell_type": "markdown",
   "id": "2fa113bb",
   "metadata": {
    "id": "GyWgG09LCSJl"
   },
   "source": [
    "Use the (as yet untrained) generator to create an image."
   ]
  },
  {
   "cell_type": "code",
   "execution_count": null,
   "id": "ff646be9",
   "metadata": {
    "execution": {
     "iopub.execute_input": "2021-05-19T09:23:22.723689Z",
     "iopub.status.busy": "2021-05-19T09:23:22.723094Z",
     "iopub.status.idle": "2021-05-19T09:23:24.744189Z",
     "shell.execute_reply": "2021-05-19T09:23:24.744575Z"
    },
    "id": "gl7jcC7TdPTG"
   },
   "outputs": [],
   "source": [
    "generator = make_generator_model()\n",
    "\n",
    "noise = tf.random.normal([1, 100])\n",
    "generated_image = generator(noise, training=False)\n",
    "\n",
    "plt.imshow(generated_image[0, :, :, 0], cmap='gray')"
   ]
  },
  {
   "cell_type": "markdown",
   "id": "000cf0a5",
   "metadata": {
    "id": "D0IKnaCtg6WE"
   },
   "source": [
    "### The Discriminator\n",
    "\n",
    "The discriminator is a CNN-based image classifier."
   ]
  },
  {
   "cell_type": "code",
   "execution_count": null,
   "id": "cc1c25cb",
   "metadata": {
    "execution": {
     "iopub.execute_input": "2021-05-19T09:23:24.751481Z",
     "iopub.status.busy": "2021-05-19T09:23:24.750846Z",
     "iopub.status.idle": "2021-05-19T09:23:24.753430Z",
     "shell.execute_reply": "2021-05-19T09:23:24.752914Z"
    },
    "id": "dw2tPLmk2pEP"
   },
   "outputs": [],
   "source": [
    "def make_discriminator_model():\n",
    "    model = tf.keras.Sequential()\n",
    "    model.add(layers.Conv2D(64, (5, 5), strides=(2, 2), padding='same',\n",
    "                                     input_shape=[28, 28, 1]))\n",
    "    model.add(layers.LeakyReLU())\n",
    "    model.add(layers.Dropout(0.3))\n",
    "\n",
    "    model.add(layers.Conv2D(128, (5, 5), strides=(2, 2), padding='same'))\n",
    "    model.add(layers.LeakyReLU())\n",
    "    model.add(layers.Dropout(0.3))\n",
    "\n",
    "    model.add(layers.Flatten())\n",
    "    model.add(layers.Dense(1))\n",
    "\n",
    "    return model"
   ]
  },
  {
   "cell_type": "markdown",
   "id": "29cf45b6",
   "metadata": {
    "id": "QhPneagzCaQv"
   },
   "source": [
    "Use the (as yet untrained) discriminator to classify the generated images as real or fake. The model will be trained to output positive values for real images, and negative values for fake images."
   ]
  },
  {
   "cell_type": "code",
   "execution_count": null,
   "id": "f0ad1eb2",
   "metadata": {
    "execution": {
     "iopub.execute_input": "2021-05-19T09:23:24.758690Z",
     "iopub.status.busy": "2021-05-19T09:23:24.758013Z",
     "iopub.status.idle": "2021-05-19T09:23:24.813444Z",
     "shell.execute_reply": "2021-05-19T09:23:24.812868Z"
    },
    "id": "gDkA05NE6QMs"
   },
   "outputs": [],
   "source": [
    "discriminator = make_discriminator_model()\n",
    "decision = discriminator(generated_image)\n",
    "print (decision)"
   ]
  },
  {
   "cell_type": "markdown",
   "id": "99a8e93f",
   "metadata": {
    "id": "0FMYgY_mPfTi"
   },
   "source": [
    "## Define the loss and optimizers\n",
    "\n",
    "Define loss functions and optimizers for both models.\n"
   ]
  },
  {
   "cell_type": "code",
   "execution_count": null,
   "id": "8a23e380",
   "metadata": {
    "execution": {
     "iopub.execute_input": "2021-05-19T09:23:24.817858Z",
     "iopub.status.busy": "2021-05-19T09:23:24.817170Z",
     "iopub.status.idle": "2021-05-19T09:23:24.819599Z",
     "shell.execute_reply": "2021-05-19T09:23:24.819099Z"
    },
    "id": "psQfmXxYKU3X"
   },
   "outputs": [],
   "source": [
    "# This method returns a helper function to compute cross entropy loss\n",
    "cross_entropy = tf.keras.losses.BinaryCrossentropy(from_logits=True)"
   ]
  },
  {
   "cell_type": "markdown",
   "id": "ad39e141",
   "metadata": {
    "id": "PKY_iPSPNWoj"
   },
   "source": [
    "### Discriminator loss\n",
    "\n",
    "This method quantifies how well the discriminator is able to distinguish real images from fakes. It compares the discriminator's predictions on real images to an array of 1s, and the discriminator's predictions on fake (generated) images to an array of 0s."
   ]
  },
  {
   "cell_type": "code",
   "execution_count": null,
   "id": "2ec77df0",
   "metadata": {
    "execution": {
     "iopub.execute_input": "2021-05-19T09:23:24.824305Z",
     "iopub.status.busy": "2021-05-19T09:23:24.823587Z",
     "iopub.status.idle": "2021-05-19T09:23:24.826089Z",
     "shell.execute_reply": "2021-05-19T09:23:24.825566Z"
    },
    "id": "wkMNfBWlT-PV"
   },
   "outputs": [],
   "source": [
    "def discriminator_loss(real_output, fake_output):\n",
    "    real_loss = cross_entropy(tf.ones_like(real_output), real_output)\n",
    "    fake_loss = cross_entropy(tf.zeros_like(fake_output), fake_output)\n",
    "    total_loss = real_loss + fake_loss\n",
    "    return total_loss"
   ]
  },
  {
   "cell_type": "markdown",
   "id": "fb4e4291",
   "metadata": {
    "id": "Jd-3GCUEiKtv"
   },
   "source": [
    "### Generator loss\n",
    "The generator's loss quantifies how well it was able to trick the discriminator. Intuitively, if the generator is performing well, the discriminator will classify the fake images as real (or 1). Here, compare the discriminators decisions on the generated images to an array of 1s."
   ]
  },
  {
   "cell_type": "code",
   "execution_count": null,
   "id": "c2f03bf7",
   "metadata": {
    "execution": {
     "iopub.execute_input": "2021-05-19T09:23:24.830923Z",
     "iopub.status.busy": "2021-05-19T09:23:24.830011Z",
     "iopub.status.idle": "2021-05-19T09:23:24.831986Z",
     "shell.execute_reply": "2021-05-19T09:23:24.832407Z"
    },
    "id": "90BIcCKcDMxz"
   },
   "outputs": [],
   "source": [
    "def generator_loss(fake_output):\n",
    "    return cross_entropy(tf.ones_like(fake_output), fake_output)"
   ]
  },
  {
   "cell_type": "markdown",
   "id": "75bef613",
   "metadata": {
    "id": "MgIc7i0th_Iu"
   },
   "source": [
    "The discriminator and the generator optimizers are different since you will train two networks separately."
   ]
  },
  {
   "cell_type": "code",
   "execution_count": null,
   "id": "45632c0a",
   "metadata": {
    "execution": {
     "iopub.execute_input": "2021-05-19T09:23:24.836881Z",
     "iopub.status.busy": "2021-05-19T09:23:24.836186Z",
     "iopub.status.idle": "2021-05-19T09:23:24.838503Z",
     "shell.execute_reply": "2021-05-19T09:23:24.838015Z"
    },
    "id": "iWCn_PVdEJZ7"
   },
   "outputs": [],
   "source": [
    "generator_optimizer = tf.keras.optimizers.Adam(1e-4)\n",
    "discriminator_optimizer = tf.keras.optimizers.Adam(1e-4)"
   ]
  },
  {
   "cell_type": "markdown",
   "id": "c8a92ecc",
   "metadata": {
    "id": "mWtinsGDPJlV"
   },
   "source": [
    "### Save checkpoints\n",
    "This notebook also demonstrates how to save and restore models, which can be helpful in case a long running training task is interrupted."
   ]
  },
  {
   "cell_type": "code",
   "execution_count": null,
   "id": "66588203",
   "metadata": {
    "execution": {
     "iopub.execute_input": "2021-05-19T09:23:24.843158Z",
     "iopub.status.busy": "2021-05-19T09:23:24.842507Z",
     "iopub.status.idle": "2021-05-19T09:23:24.844441Z",
     "shell.execute_reply": "2021-05-19T09:23:24.844818Z"
    },
    "id": "CA1w-7s2POEy"
   },
   "outputs": [],
   "source": [
    "checkpoint_dir = './training_checkpoints'\n",
    "checkpoint_prefix = os.path.join(checkpoint_dir, \"ckpt\")\n",
    "checkpoint = tf.train.Checkpoint(generator_optimizer=generator_optimizer,\n",
    "                                 discriminator_optimizer=discriminator_optimizer,\n",
    "                                 generator=generator,\n",
    "                                 discriminator=discriminator)"
   ]
  },
  {
   "cell_type": "markdown",
   "id": "ae28138e",
   "metadata": {
    "id": "Rw1fkAczTQYh"
   },
   "source": [
    "## Define the training loop\n"
   ]
  },
  {
   "cell_type": "code",
   "execution_count": null,
   "id": "4c333169",
   "metadata": {
    "execution": {
     "iopub.execute_input": "2021-05-19T09:23:24.849320Z",
     "iopub.status.busy": "2021-05-19T09:23:24.848669Z",
     "iopub.status.idle": "2021-05-19T09:23:24.851961Z",
     "shell.execute_reply": "2021-05-19T09:23:24.851366Z"
    },
    "id": "NS2GWywBbAWo"
   },
   "outputs": [],
   "source": [
    "EPOCHS = 50\n",
    "noise_dim = 100\n",
    "num_examples_to_generate = 16\n",
    "\n",
    "# You will reuse this seed overtime (so it's easier)\n",
    "# to visualize progress in the animated GIF)\n",
    "seed = tf.random.normal([num_examples_to_generate, noise_dim])"
   ]
  },
  {
   "cell_type": "markdown",
   "id": "0262923d",
   "metadata": {
    "id": "jylSonrqSWfi"
   },
   "source": [
    "The training loop begins with generator receiving a random seed as input. That seed is used to produce an image. The discriminator is then used to classify real images (drawn from the training set) and fakes images (produced by the generator). The loss is calculated for each of these models, and the gradients are used to update the generator and discriminator."
   ]
  },
  {
   "cell_type": "code",
   "execution_count": null,
   "id": "a2da9bff",
   "metadata": {
    "execution": {
     "iopub.execute_input": "2021-05-19T09:23:24.858332Z",
     "iopub.status.busy": "2021-05-19T09:23:24.857617Z",
     "iopub.status.idle": "2021-05-19T09:23:24.860313Z",
     "shell.execute_reply": "2021-05-19T09:23:24.859825Z"
    },
    "id": "3t5ibNo05jCB"
   },
   "outputs": [],
   "source": [
    "# Notice the use of `tf.function`\n",
    "# This annotation causes the function to be \"compiled\".\n",
    "@tf.function\n",
    "def train_step(images):\n",
    "    noise = tf.random.normal([BATCH_SIZE, noise_dim])\n",
    "\n",
    "    with tf.GradientTape() as gen_tape, tf.GradientTape() as disc_tape:\n",
    "      generated_images = generator(noise, training=True)\n",
    "\n",
    "      real_output = discriminator(images, training=True)\n",
    "      fake_output = discriminator(generated_images, training=True)\n",
    "\n",
    "      gen_loss = generator_loss(fake_output)\n",
    "      disc_loss = discriminator_loss(real_output, fake_output)\n",
    "\n",
    "    gradients_of_generator = gen_tape.gradient(gen_loss, generator.trainable_variables)\n",
    "    gradients_of_discriminator = disc_tape.gradient(disc_loss, discriminator.trainable_variables)\n",
    "\n",
    "    generator_optimizer.apply_gradients(zip(gradients_of_generator, generator.trainable_variables))\n",
    "    discriminator_optimizer.apply_gradients(zip(gradients_of_discriminator, discriminator.trainable_variables))"
   ]
  },
  {
   "cell_type": "code",
   "execution_count": null,
   "id": "5e5bccf9",
   "metadata": {
    "execution": {
     "iopub.execute_input": "2021-05-19T09:23:24.865908Z",
     "iopub.status.busy": "2021-05-19T09:23:24.865247Z",
     "iopub.status.idle": "2021-05-19T09:23:24.867632Z",
     "shell.execute_reply": "2021-05-19T09:23:24.867138Z"
    },
    "id": "2M7LmLtGEMQJ"
   },
   "outputs": [],
   "source": [
    "def train(dataset, epochs):\n",
    "  for epoch in range(epochs):\n",
    "    start = time.time()\n",
    "\n",
    "    for image_batch in dataset:\n",
    "      train_step(image_batch)\n",
    "\n",
    "    # Produce images for the GIF as you go\n",
    "    display.clear_output(wait=True)\n",
    "    generate_and_save_images(generator,\n",
    "                             epoch + 1,\n",
    "                             seed)\n",
    "\n",
    "    # Save the model every 15 epochs\n",
    "    if (epoch + 1) % 15 == 0:\n",
    "      checkpoint.save(file_prefix = checkpoint_prefix)\n",
    "\n",
    "    print ('Time for epoch {} is {} sec'.format(epoch + 1, time.time()-start))\n",
    "\n",
    "  # Generate after the final epoch\n",
    "  display.clear_output(wait=True)\n",
    "  generate_and_save_images(generator,\n",
    "                           epochs,\n",
    "                           seed)"
   ]
  },
  {
   "cell_type": "markdown",
   "id": "c4949c23",
   "metadata": {
    "id": "2aFF7Hk3XdeW"
   },
   "source": [
    "**Generate and save images**\n"
   ]
  },
  {
   "cell_type": "code",
   "execution_count": null,
   "id": "bcbc3025",
   "metadata": {
    "execution": {
     "iopub.execute_input": "2021-05-19T09:23:24.874036Z",
     "iopub.status.busy": "2021-05-19T09:23:24.873337Z",
     "iopub.status.idle": "2021-05-19T09:23:24.875104Z",
     "shell.execute_reply": "2021-05-19T09:23:24.875585Z"
    },
    "id": "RmdVsmvhPxyy"
   },
   "outputs": [],
   "source": [
    "def generate_and_save_images(model, epoch, test_input):\n",
    "  # Notice `training` is set to False.\n",
    "  # This is so all layers run in inference mode (batchnorm).\n",
    "  predictions = model(test_input, training=False)\n",
    "\n",
    "  fig = plt.figure(figsize=(4, 4))\n",
    "\n",
    "  for i in range(predictions.shape[0]):\n",
    "      plt.subplot(4, 4, i+1)\n",
    "      plt.imshow(predictions[i, :, :, 0] * 127.5 + 127.5, cmap='gray')\n",
    "      plt.axis('off')\n",
    "\n",
    "  plt.savefig('image_at_epoch_{:04d}.png'.format(epoch))\n",
    "  plt.show()"
   ]
  },
  {
   "cell_type": "markdown",
   "id": "d3303236",
   "metadata": {
    "id": "dZrd4CdjR-Fp"
   },
   "source": [
    "## Train the model\n",
    "Call the `train()` method defined above to train the generator and discriminator simultaneously. Note, training GANs can be tricky. It's important that the generator and discriminator do not overpower each other (e.g., that they train at a similar rate).\n",
    "\n",
    "At the beginning of the training, the generated images look like random noise. As training progresses, the generated digits will look increasingly real. After about 50 epochs, they resemble MNIST digits. This may take about one minute / epoch with the default settings on Colab."
   ]
  },
  {
   "cell_type": "code",
   "execution_count": null,
   "id": "4524abd8",
   "metadata": {
    "execution": {
     "iopub.execute_input": "2021-05-19T09:23:24.880656Z",
     "iopub.status.busy": "2021-05-19T09:23:24.879684Z",
     "iopub.status.idle": "2021-05-19T09:26:44.147564Z",
     "shell.execute_reply": "2021-05-19T09:26:44.147008Z"
    },
    "id": "Ly3UN0SLLY2l"
   },
   "outputs": [],
   "source": [
    "train(train_dataset, EPOCHS)"
   ]
  },
  {
   "cell_type": "markdown",
   "id": "1f706bdc",
   "metadata": {
    "id": "rfM4YcPVPkNO"
   },
   "source": [
    "Restore the latest checkpoint."
   ]
  },
  {
   "cell_type": "code",
   "execution_count": null,
   "id": "9557b392",
   "metadata": {
    "execution": {
     "iopub.execute_input": "2021-05-19T09:26:44.151962Z",
     "iopub.status.busy": "2021-05-19T09:26:44.151344Z",
     "iopub.status.idle": "2021-05-19T09:26:44.219361Z",
     "shell.execute_reply": "2021-05-19T09:26:44.219763Z"
    },
    "id": "XhXsd0srPo8c"
   },
   "outputs": [],
   "source": [
    "checkpoint.restore(tf.train.latest_checkpoint(checkpoint_dir))"
   ]
  },
  {
   "cell_type": "markdown",
   "id": "f57e9066",
   "metadata": {
    "id": "P4M_vIbUi7c0"
   },
   "source": [
    "## Create a GIF\n"
   ]
  },
  {
   "cell_type": "code",
   "execution_count": null,
   "id": "2c253b7f",
   "metadata": {
    "execution": {
     "iopub.execute_input": "2021-05-19T09:26:44.224137Z",
     "iopub.status.busy": "2021-05-19T09:26:44.223507Z",
     "iopub.status.idle": "2021-05-19T09:26:44.225860Z",
     "shell.execute_reply": "2021-05-19T09:26:44.225382Z"
    },
    "id": "WfO5wCdclHGL"
   },
   "outputs": [],
   "source": [
    "# Display a single image using the epoch number\n",
    "def display_image(epoch_no):\n",
    "  return PIL.Image.open('image_at_epoch_{:04d}.png'.format(epoch_no))"
   ]
  },
  {
   "cell_type": "code",
   "execution_count": null,
   "id": "e548fa3d",
   "metadata": {
    "execution": {
     "iopub.execute_input": "2021-05-19T09:26:44.229778Z",
     "iopub.status.busy": "2021-05-19T09:26:44.229203Z",
     "iopub.status.idle": "2021-05-19T09:26:44.240978Z",
     "shell.execute_reply": "2021-05-19T09:26:44.240532Z"
    },
    "id": "5x3q9_Oe5q0A"
   },
   "outputs": [],
   "source": [
    "display_image(EPOCHS)"
   ]
  },
  {
   "cell_type": "markdown",
   "id": "af3d9eeb",
   "metadata": {
    "id": "NywiH3nL8guF"
   },
   "source": [
    "Use `imageio` to create an animated gif using the images saved during training."
   ]
  },
  {
   "cell_type": "code",
   "execution_count": null,
   "id": "da5e038e",
   "metadata": {
    "execution": {
     "iopub.execute_input": "2021-05-19T09:26:44.245623Z",
     "iopub.status.busy": "2021-05-19T09:26:44.245048Z",
     "iopub.status.idle": "2021-05-19T09:26:44.779517Z",
     "shell.execute_reply": "2021-05-19T09:26:44.779934Z"
    },
    "id": "IGKQgENQ8lEI"
   },
   "outputs": [],
   "source": [
    "anim_file = 'dcgan.gif'\n",
    "\n",
    "with imageio.get_writer(anim_file, mode='I') as writer:\n",
    "  filenames = glob.glob('image*.png')\n",
    "  filenames = sorted(filenames)\n",
    "  for filename in filenames:\n",
    "    image = imageio.imread(filename)\n",
    "    writer.append_data(image)\n",
    "  image = imageio.imread(filename)\n",
    "  writer.append_data(image)"
   ]
  },
  {
   "cell_type": "code",
   "execution_count": null,
   "id": "609f312e",
   "metadata": {
    "execution": {
     "iopub.execute_input": "2021-05-19T09:26:44.784130Z",
     "iopub.status.busy": "2021-05-19T09:26:44.783488Z",
     "iopub.status.idle": "2021-05-19T09:26:44.823298Z",
     "shell.execute_reply": "2021-05-19T09:26:44.823728Z"
    },
    "id": "ZBwyU6t2Wf3g",
    "scrolled": false
   },
   "outputs": [],
   "source": [
    "import tensorflow_docs.vis.embed as embed\n",
    "embed.embed_file(anim_file)"
   ]
  },
  {
   "cell_type": "markdown",
   "id": "d7f19e71",
   "metadata": {},
   "source": [
    "## Last Demo: GPT\n",
    "\n",
    "One other specific type of GAN is a model that can generate text. In this case, we'll look at some work done by others in using the GPT-3 model.\n",
    "\n",
    "* https://arr.am/2020/07/09/gpt-3-an-ai-thats-eerily-good-at-writing-almost-anything/\n",
    "\n"
   ]
  },
  {
   "cell_type": "code",
   "execution_count": null,
   "id": "48b535d7",
   "metadata": {},
   "outputs": [],
   "source": []
  }
 ],
 "metadata": {
  "kernelspec": {
   "display_name": "Python 3",
   "language": "python",
   "name": "python3"
  },
  "language_info": {
   "codemirror_mode": {
    "name": "ipython",
    "version": 3
   },
   "file_extension": ".py",
   "mimetype": "text/x-python",
   "name": "python",
   "nbconvert_exporter": "python",
   "pygments_lexer": "ipython3",
   "version": "3.8.10"
  }
 },
 "nbformat": 4,
 "nbformat_minor": 5
}
